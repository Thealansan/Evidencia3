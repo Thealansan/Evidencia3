{
  "nbformat": 4,
  "nbformat_minor": 0,
  "metadata": {
    "colab": {
      "provenance": [],
      "include_colab_link": true
    },
    "kernelspec": {
      "name": "python3",
      "display_name": "Python 3"
    },
    "language_info": {
      "name": "python"
    }
  },
  "cells": [
    {
      "cell_type": "markdown",
      "metadata": {
        "id": "view-in-github",
        "colab_type": "text"
      },
      "source": [
        "<a href=\"https://colab.research.google.com/github/Thealansan/Evidencia3/blob/main/microretailer_mit_lab_Evidencia3.ipynb\" target=\"_parent\"><img src=\"https://colab.research.google.com/assets/colab-badge.svg\" alt=\"Open In Colab\"/></a>"
      ]
    },
    {
      "cell_type": "code",
      "source": [
        "#Importamos las librerias pandas, numpy y matplotlib respectivamente\n",
        "import pandas as pd\n",
        "import numpy as np\n",
        "import matplotlib.pyplot as plt\n",
        "import scipy.special as special\n",
        "from scipy.optimize import curve_fit\n",
        "import seaborn as sns\n",
        "from sklearn.metrics import r2_score\n",
        "from sklearn.model_selection import train_test_split\n",
        "from sklearn.preprocessing import StandardScaler"
      ],
      "metadata": {
        "id": "ETGQ0itp1pyM"
      },
      "execution_count": null,
      "outputs": []
    },
    {
      "cell_type": "code",
      "execution_count": null,
      "metadata": {
        "id": "xyNsvobS1cuL"
      },
      "outputs": [],
      "source": [
        "#Cargar archivo csv desde equipo\n",
        "from google.colab import files\n",
        "files.upload()"
      ]
    },
    {
      "cell_type": "code",
      "source": [
        "#Carga desde un archivo .csv sin indice\n",
        "df= pd.read_csv('Datos_limpios_Micro_retailer_evidencia2.csv')"
      ],
      "metadata": {
        "id": "IExMiUMS1m--"
      },
      "execution_count": null,
      "outputs": []
    },
    {
      "cell_type": "markdown",
      "source": [
        "1.- Regresión logistica \n"
      ],
      "metadata": {
        "id": "AayH8VDJ19lT"
      }
    },
    {
      "cell_type": "code",
      "source": [
        "#Rellenamos nulos dentro del condigo \n",
        "df=df.fillna(method='ffill')"
      ],
      "metadata": {
        "id": "vaVWmUD76fTU"
      },
      "execution_count": null,
      "outputs": []
    },
    {
      "cell_type": "code",
      "source": [
        "#Declaramos las variables dependientes e independientes para la regresión logística.\n",
        "Vars_Indep= df[['97_number_of_customers_in_store', '2_current_permanent_employees', '315_frequency_topups']]\n",
        "Var_Dep= df['56_procurement_changes_pandemic']"
      ],
      "metadata": {
        "id": "vBcocUBZ6hUX"
      },
      "execution_count": null,
      "outputs": []
    },
    {
      "cell_type": "code",
      "source": [
        "#Redefinimos las variables\n",
        "X= Vars_Indep \n",
        "y= Var_Dep"
      ],
      "metadata": {
        "id": "enF6PHXa67Hp"
      },
      "execution_count": null,
      "outputs": []
    },
    {
      "cell_type": "code",
      "source": [
        "#Dividimos el conjunto de datos en la parte de entrenamiento y prueba:\n",
        "X_train, X_test, y_train, y_test = train_test_split(X,y, test_size=0.3, random_state=None)"
      ],
      "metadata": {
        "id": "t7DbEYit6-iu"
      },
      "execution_count": null,
      "outputs": []
    },
    {
      "cell_type": "code",
      "source": [
        "#Se escalan todos los datos \n",
        "escalar= StandardScaler()"
      ],
      "metadata": {
        "id": "1mrzfzhC7AMg"
      },
      "execution_count": null,
      "outputs": []
    },
    {
      "cell_type": "code",
      "source": [
        "#Para realizar el escalamiento de las variables \"X\" tanto de entrenamiento como de prueba \n",
        "X_train=escalar.fit_transform(X_train)\n",
        "X_test= escalar.transform(X_test)"
      ],
      "metadata": {
        "id": "jT8jj9SS7C0w"
      },
      "execution_count": null,
      "outputs": []
    },
    {
      "cell_type": "code",
      "source": [
        "#Definimos el algoritmo a utilizar \n",
        "from sklearn.linear_model import LogisticRegression\n",
        "algoritmo=LogisticRegression()"
      ],
      "metadata": {
        "id": "vaLhNF977EcP"
      },
      "execution_count": null,
      "outputs": []
    },
    {
      "cell_type": "code",
      "source": [
        "#Entrenamos el modelo\n",
        "algoritmo.fit(X_train, y_train)"
      ],
      "metadata": {
        "id": "LGUuQCvb7GET"
      },
      "execution_count": null,
      "outputs": []
    },
    {
      "cell_type": "code",
      "source": [
        "#Realizamos una predicción\n",
        "y_pred = algoritmo.predict(X_test)\n",
        "y_pred"
      ],
      "metadata": {
        "id": "8dHsYc0K7Kjv"
      },
      "execution_count": null,
      "outputs": []
    },
    {
      "cell_type": "code",
      "source": [
        "#Verifico matriz de confusión\n",
        "from sklearn.metrics import confusion_matrix\n",
        "matriz = confusion_matrix(y_test, y_pred)\n",
        "print('Matriz de Confusión')\n",
        "print(matriz)"
      ],
      "metadata": {
        "id": "GqY_cGHM7Nsh"
      },
      "execution_count": null,
      "outputs": []
    },
    {
      "cell_type": "code",
      "source": [
        "#Calculo la precisión del modelo\n",
        "from sklearn.metrics import precision_score\n",
        "\n",
        "precision = precision_score(y_test, y_pred, average='micro', pos_label=\"no\")\n",
        "print('Precision del modelo:')\n",
        "print(precision)"
      ],
      "metadata": {
        "id": "9GxvhSB87PjA"
      },
      "execution_count": null,
      "outputs": []
    },
    {
      "cell_type": "code",
      "source": [
        "#Calculo la exactitud del modelo\n",
        "from sklearn.metrics import accuracy_score\n",
        "exactitud = accuracy_score(y_test, y_pred)\n",
        "print('Exactitud del modelo:')\n",
        "print(exactitud)"
      ],
      "metadata": {
        "id": "bHK2EwlS7R6u"
      },
      "execution_count": null,
      "outputs": []
    },
    {
      "cell_type": "code",
      "source": [
        "#Calculo la sensibilidad del modelo\n",
        "from sklearn.metrics import recall_score\n",
        "\n",
        "sensibilidad = recall_score(y_test, y_pred, average=\"micro\", pos_label=\"yes\")\n",
        "print('Sensibilidad del modelo:')\n",
        "print(sensibilidad)"
      ],
      "metadata": {
        "id": "y8_3btei7UJd"
      },
      "execution_count": null,
      "outputs": []
    },
    {
      "cell_type": "markdown",
      "source": [
        "2.- Regresión logistica \n"
      ],
      "metadata": {
        "id": "od8Hrpsf7hIT"
      }
    },
    {
      "cell_type": "code",
      "source": [
        "#Declaramos las variables dependientes e independientes para la regresión logística.\n",
        "Vars_Indep= df[['145_number_direct_competitors', '317_home_deliveries', '24_burnout']]\n",
        "Var_Dep= df['310_burnout']"
      ],
      "metadata": {
        "id": "BO8HpjZs7jsE"
      },
      "execution_count": null,
      "outputs": []
    },
    {
      "cell_type": "code",
      "source": [
        "#Redefinimos las variables\n",
        "X= Vars_Indep \n",
        "y= Var_Dep"
      ],
      "metadata": {
        "id": "7qWxR_wr71NI"
      },
      "execution_count": null,
      "outputs": []
    },
    {
      "cell_type": "code",
      "source": [
        "#Dividimos el conjunto de datos en la parte de entrenamiento y pruba:\n",
        "X_train, X_test, y_train, y_test = train_test_split(X,y, test_size=0.3, random_state=None)"
      ],
      "metadata": {
        "id": "Not5rOlc73dg"
      },
      "execution_count": null,
      "outputs": []
    },
    {
      "cell_type": "code",
      "source": [
        "#Se escalan todos los datos \n",
        "escalar= StandardScaler()"
      ],
      "metadata": {
        "id": "Ut7V_Ub075da"
      },
      "execution_count": null,
      "outputs": []
    },
    {
      "cell_type": "code",
      "source": [
        "#Para realizar el escalamiento de las variables \"X\" tanto de entrenamiento como de prueba \n",
        "X_train=escalar.fit_transform(X_train)\n",
        "X_test= escalar.transform(X_test)"
      ],
      "metadata": {
        "id": "D0FWSFzj77UR"
      },
      "execution_count": null,
      "outputs": []
    },
    {
      "cell_type": "code",
      "source": [
        "#Definimos el algoritmo a utilizar \n",
        "from sklearn.linear_model import LogisticRegression\n",
        "algoritmo=LogisticRegression()"
      ],
      "metadata": {
        "id": "EzmNt8Z379d8"
      },
      "execution_count": null,
      "outputs": []
    },
    {
      "cell_type": "code",
      "source": [
        "#Entrenamos el modelo\n",
        "algoritmo.fit(X_train, y_train)"
      ],
      "metadata": {
        "id": "JRlrIG3G7_T5"
      },
      "execution_count": null,
      "outputs": []
    },
    {
      "cell_type": "code",
      "source": [
        "#Realizamos una predicción\n",
        "y_pred = algoritmo.predict(X_test)\n",
        "y_pred"
      ],
      "metadata": {
        "id": "bd1krVI48BX3"
      },
      "execution_count": null,
      "outputs": []
    },
    {
      "cell_type": "code",
      "source": [
        "#Verifico matriz de confusión\n",
        "from sklearn.metrics import confusion_matrix\n",
        "matriz = confusion_matrix(y_test, y_pred)\n",
        "print('Matriz de Confusión')\n",
        "print(matriz)"
      ],
      "metadata": {
        "id": "bdXgE07J8Dhd"
      },
      "execution_count": null,
      "outputs": []
    },
    {
      "cell_type": "code",
      "source": [
        "#Calculo la precisión del modelo\n",
        "from sklearn.metrics import precision_score\n",
        "\n",
        "precision = precision_score(y_test, y_pred, average='binary', pos_label=\"no\")\n",
        "print('Precision del modelo:')\n",
        "print(precision)"
      ],
      "metadata": {
        "id": "SlwklfWr8Fv7"
      },
      "execution_count": null,
      "outputs": []
    },
    {
      "cell_type": "code",
      "source": [
        "#Calculo la exactitud del modelo\n",
        "from sklearn.metrics import accuracy_score\n",
        "exactitud = accuracy_score(y_test, y_pred)\n",
        "print('Exactitud del modelo:')\n",
        "print(exactitud)"
      ],
      "metadata": {
        "id": "g8JE8oER8Z0U"
      },
      "execution_count": null,
      "outputs": []
    },
    {
      "cell_type": "code",
      "source": [
        "#Calculo la sensibilidad del modelo\n",
        "from sklearn.metrics import recall_score\n",
        "\n",
        "sensibilidad = recall_score(y_test, y_pred, average=\"binary\", pos_label=\"no\")\n",
        "print('Sensibilidad del modelo:')\n",
        "print(sensibilidad)"
      ],
      "metadata": {
        "id": "RefJWFAU8htH"
      },
      "execution_count": null,
      "outputs": []
    },
    {
      "cell_type": "markdown",
      "source": [
        "3.- Regresión logistica "
      ],
      "metadata": {
        "id": "tqlcE0ag8oRl"
      }
    },
    {
      "cell_type": "code",
      "source": [
        "#Declaramos las variables dependientes e independientes para la regresión logística.\n",
        "Vars_Indep= df[['2_current_permanent_employees', '172_supplier_frequency', '272_card_days_receive_money']]\n",
        "Var_Dep= df['20_reviews_finances_monthly']"
      ],
      "metadata": {
        "id": "veCrkuxP8q_T"
      },
      "execution_count": null,
      "outputs": []
    },
    {
      "cell_type": "code",
      "source": [
        "#Redefinimos las variables\n",
        "X= Vars_Indep \n",
        "y= Var_Dep"
      ],
      "metadata": {
        "id": "KQtHbr0i8zPV"
      },
      "execution_count": null,
      "outputs": []
    },
    {
      "cell_type": "code",
      "source": [
        "#Dividimos el conjunto de datos en la parte de entrenamiento y pruba:\n",
        "X_train, X_test, y_train, y_test = train_test_split(X,y, test_size=0.3, random_state=None)"
      ],
      "metadata": {
        "id": "AAiSg07T86J8"
      },
      "execution_count": null,
      "outputs": []
    },
    {
      "cell_type": "code",
      "source": [
        "#Se escalan todos los datos \n",
        "escalar= StandardScaler()"
      ],
      "metadata": {
        "id": "241Mtj0m88XE"
      },
      "execution_count": null,
      "outputs": []
    },
    {
      "cell_type": "code",
      "source": [
        "#Para realizar el escalamiento de las variables \"X\" tanto de entrenamiento como de prueba \n",
        "X_train=escalar.fit_transform(X_train)\n",
        "X_test= escalar.transform(X_test)"
      ],
      "metadata": {
        "id": "PT1iOWlt8-bR"
      },
      "execution_count": null,
      "outputs": []
    },
    {
      "cell_type": "code",
      "source": [
        "#Definimos el algoritmo a utilizar \n",
        "from sklearn.linear_model import LogisticRegression\n",
        "algoritmo=LogisticRegression()"
      ],
      "metadata": {
        "id": "kNPD6cm69BN-"
      },
      "execution_count": null,
      "outputs": []
    },
    {
      "cell_type": "code",
      "source": [
        "#Entrenamos el modelo\n",
        "algoritmo.fit(X_train, y_train)"
      ],
      "metadata": {
        "id": "qcijEHy79EMF"
      },
      "execution_count": null,
      "outputs": []
    },
    {
      "cell_type": "code",
      "source": [
        "#Realizamos una predicción\n",
        "y_pred = algoritmo.predict(X_test)\n",
        "y_pred"
      ],
      "metadata": {
        "id": "Uxl3BdY59G8b"
      },
      "execution_count": null,
      "outputs": []
    },
    {
      "cell_type": "code",
      "source": [
        "#Verifico matriz de confusión\n",
        "from sklearn.metrics import confusion_matrix\n",
        "matriz = confusion_matrix(y_test, y_pred)\n",
        "print('Matriz de Confusión')\n",
        "print(matriz)"
      ],
      "metadata": {
        "id": "Sx2C4wIt9JyH"
      },
      "execution_count": null,
      "outputs": []
    },
    {
      "cell_type": "code",
      "source": [
        "#Calculo la precisión del modelo\n",
        "from sklearn.metrics import precision_score\n",
        "\n",
        "precision = precision_score(y_test, y_pred, average='binary', pos_label=\"yes\")\n",
        "print('Precision del modelo:')\n",
        "print(precision)"
      ],
      "metadata": {
        "id": "k0m4R_Zl9M3c"
      },
      "execution_count": null,
      "outputs": []
    },
    {
      "cell_type": "code",
      "source": [
        "#Calculo la exactitud del modelo\n",
        "from sklearn.metrics import accuracy_score\n",
        "exactitud = accuracy_score(y_test, y_pred)\n",
        "print('Exactitud del modelo:')\n",
        "print(exactitud)"
      ],
      "metadata": {
        "id": "ey2d83AK9PtC"
      },
      "execution_count": null,
      "outputs": []
    },
    {
      "cell_type": "code",
      "source": [
        "#Calculo la sensibilidad del modelo\n",
        "from sklearn.metrics import recall_score\n",
        "\n",
        "sensibilidad = recall_score(y_test, y_pred, average=\"binary\", pos_label=\"yes\")\n",
        "print('Sensibilidad del modelo:')\n",
        "print(sensibilidad)"
      ],
      "metadata": {
        "id": "KS_wxAxM9Smk"
      },
      "execution_count": null,
      "outputs": []
    },
    {
      "cell_type": "markdown",
      "source": [
        "4.- Regresión logistica "
      ],
      "metadata": {
        "id": "bBcAtLQj9b8-"
      }
    },
    {
      "cell_type": "code",
      "source": [
        "#Declaramos las variables dependientes e independientes para la regresión logística.\n",
        "Vars_Indep= df[['97_number_of_customers_in_store', '145_number_direct_competitors', '163_number_high_perishable_products']]\n",
        "Var_Dep= df['99_does_the_micro_retailer_exhibits_products_outside_']"
      ],
      "metadata": {
        "id": "F2j_gm7V9WDk"
      },
      "execution_count": null,
      "outputs": []
    },
    {
      "cell_type": "code",
      "source": [
        "#Redefinimos las variables\n",
        "X= Vars_Indep \n",
        "y= Var_Dep"
      ],
      "metadata": {
        "id": "jKYcCFH1-CbB"
      },
      "execution_count": null,
      "outputs": []
    },
    {
      "cell_type": "code",
      "source": [
        "#Dividimos el conjunto de datos en la parte de entrenamiento y pruba:\n",
        "X_train, X_test, y_train, y_test = train_test_split(X,y, test_size=0.3, random_state=None)"
      ],
      "metadata": {
        "id": "83A9wiK0-EFM"
      },
      "execution_count": null,
      "outputs": []
    },
    {
      "cell_type": "code",
      "source": [
        "#Se escalan todos los datos \n",
        "escalar= StandardScaler()"
      ],
      "metadata": {
        "id": "oG5HtxuU-ElP"
      },
      "execution_count": null,
      "outputs": []
    },
    {
      "cell_type": "code",
      "source": [
        "#Para realizar el escalamiento de las variables \"X\" tanto de entrenamiento como de prueba \n",
        "X_train=escalar.fit_transform(X_train)\n",
        "X_test= escalar.transform(X_test)"
      ],
      "metadata": {
        "id": "oQDrNQ58-EyU"
      },
      "execution_count": null,
      "outputs": []
    },
    {
      "cell_type": "code",
      "source": [
        "#Definimos el algoritmo a utilizar \n",
        "from sklearn.linear_model import LogisticRegression\n",
        "algoritmo=LogisticRegression()"
      ],
      "metadata": {
        "id": "HqGTa79i-IRw"
      },
      "execution_count": null,
      "outputs": []
    },
    {
      "cell_type": "code",
      "source": [
        "#Entrenamos el modelo\n",
        "algoritmo.fit(X_train, y_train)"
      ],
      "metadata": {
        "id": "Z7pjLfw9-KKK"
      },
      "execution_count": null,
      "outputs": []
    },
    {
      "cell_type": "code",
      "source": [
        "#Realizamos una predicción\n",
        "y_pred = algoritmo.predict(X_test)\n",
        "y_pred"
      ],
      "metadata": {
        "id": "a6hTsHen-NLF"
      },
      "execution_count": null,
      "outputs": []
    },
    {
      "cell_type": "code",
      "source": [
        "#Verifico matriz de confusión\n",
        "from sklearn.metrics import confusion_matrix\n",
        "matriz = confusion_matrix(y_test, y_pred)\n",
        "print('Matriz de Confusión')\n",
        "print(matriz)"
      ],
      "metadata": {
        "id": "Qh_bFIM9-Oz1"
      },
      "execution_count": null,
      "outputs": []
    },
    {
      "cell_type": "code",
      "source": [
        "#Calculo la precisión del modelo\n",
        "from sklearn.metrics import precision_score\n",
        "\n",
        "precision = precision_score(y_test, y_pred, average='binary', pos_label=\"no\")\n",
        "print('Precision del modelo:')\n",
        "print(precision)"
      ],
      "metadata": {
        "id": "Umd7RX2C-QL2"
      },
      "execution_count": null,
      "outputs": []
    },
    {
      "cell_type": "code",
      "source": [
        "#Calculo la exactitud del modelo\n",
        "from sklearn.metrics import accuracy_score\n",
        "exactitud = accuracy_score(y_test, y_pred)\n",
        "print('Exactitud del modelo:')\n",
        "print(exactitud)"
      ],
      "metadata": {
        "id": "-tZT31jy-Rm3"
      },
      "execution_count": null,
      "outputs": []
    },
    {
      "cell_type": "code",
      "source": [
        "#Calculo la sensibilidad del modelo\n",
        "from sklearn.metrics import recall_score\n",
        "\n",
        "sensibilidad = recall_score(y_test, y_pred, average=\"binary\", pos_label=\"no\")\n",
        "print('Sensibilidad del modelo:')\n",
        "print(sensibilidad)"
      ],
      "metadata": {
        "id": "Fh0n_WVt-TRa"
      },
      "execution_count": null,
      "outputs": []
    },
    {
      "cell_type": "markdown",
      "source": [
        "5.- Regresion lineal \n"
      ],
      "metadata": {
        "id": "kyJedDiQ-ioJ"
      }
    },
    {
      "cell_type": "code",
      "source": [
        "#Se grafican mapas de dispersion de las 3 variables\n",
        "from turtle import color\n",
        "\n",
        "sns.scatterplot(x='145_number_direct_competitors', y='172_supplier_frequency', color='blue', data=df)\n",
        "sns.scatterplot(x='97_number_of_customers_in_store', y='172_supplier_frequency', color='red', data=df)\n",
        "sns.scatterplot(x='2_current_permanent_employees', y='172_supplier_frequency', color='yellow', data=df)"
      ],
      "metadata": {
        "id": "8jDTWy9z-ksi"
      },
      "execution_count": null,
      "outputs": []
    },
    {
      "cell_type": "code",
      "source": [
        "#Declaramos las variables dependientes e independientes para la regresión lineal.\n",
        "Vars_Indep= df[['145_number_direct_competitors', '97_number_of_customers_in_store', '2_current_permanent_employees']]\n",
        "Var_Dep= df['172_supplier_frequency']"
      ],
      "metadata": {
        "id": "EDEBL-7T_Y8g"
      },
      "execution_count": null,
      "outputs": []
    },
    {
      "cell_type": "code",
      "source": [
        "#Se define model como la función de regresión lineal\n",
        "from sklearn.linear_model import LinearRegression\n",
        "model= LinearRegression()"
      ],
      "metadata": {
        "id": "_rgv4o2p_mx4"
      },
      "execution_count": null,
      "outputs": []
    },
    {
      "cell_type": "code",
      "source": [
        "#Verificamos la funcion relacionada al modelo\n",
        "type(model)"
      ],
      "metadata": {
        "id": "naYPpYhm_oG6",
        "colab": {
          "base_uri": "https://localhost:8080/"
        },
        "outputId": "ac97d2ac-1342-47f8-8c30-54353aa67398"
      },
      "execution_count": null,
      "outputs": [
        {
          "output_type": "execute_result",
          "data": {
            "text/plain": [
              "sklearn.linear_model._base.LinearRegression"
            ]
          },
          "metadata": {},
          "execution_count": 176
        }
      ]
    },
    {
      "cell_type": "code",
      "source": [
        "#Ajustamos el modelo con las variables antes declaradas\n",
        "model.fit(X=Vars_Indep, y=Var_Dep)"
      ],
      "metadata": {
        "id": "tiA2-8RR_psD"
      },
      "execution_count": null,
      "outputs": []
    },
    {
      "cell_type": "code",
      "source": [
        "#Verificamos los coeficientes obtenidos para el modelo ajustado\n",
        "model.__dict__"
      ],
      "metadata": {
        "id": "TUFwJSAx_rea"
      },
      "execution_count": null,
      "outputs": []
    },
    {
      "cell_type": "code",
      "source": [
        "#Evaluamos la eficiencia del modelo obtenido por medio del coeficiente R^2 Determinación\n",
        "model.score(Vars_Indep,Var_Dep)"
      ],
      "metadata": {
        "id": "j2PFyI24_tTC"
      },
      "execution_count": null,
      "outputs": []
    },
    {
      "cell_type": "code",
      "source": [
        "#Predicciones\n",
        "y_pred= model.predict(X=df[['145_number_direct_competitors', '97_number_of_customers_in_store', '2_current_permanent_employees']])\n",
        "y_pred"
      ],
      "metadata": {
        "id": "lumbm2qz_vg1"
      },
      "execution_count": null,
      "outputs": []
    },
    {
      "cell_type": "code",
      "source": [
        "#Insertamos la columna de predicciones en el Dataframe\n",
        "df.insert(0, 'Predicciones', y_pred)\n",
        "df"
      ],
      "metadata": {
        "id": "oAD4O6W__4HR"
      },
      "execution_count": null,
      "outputs": []
    },
    {
      "cell_type": "code",
      "source": [
        "#Visualizamos la gráfica comparativa entre el total real y el total predecido\n",
        "\n",
        "sns.scatterplot(x= '145_number_direct_competitors', y= '172_supplier_frequency', color= 'blue', data=df)\n",
        "sns.scatterplot(x= '145_number_direct_competitors', y= 'Predicciones', color= 'red', data=df)"
      ],
      "metadata": {
        "id": "hVWOxhZO_-Ln"
      },
      "execution_count": null,
      "outputs": []
    },
    {
      "cell_type": "code",
      "source": [
        "#Visualizamos la gráfica comparativa entre el total real y el total predecido\n",
        "\n",
        "sns.scatterplot(x= '97_number_of_customers_in_store', y= '172_supplier_frequency', color= 'blue', data=df)\n",
        "sns.scatterplot(x= '97_number_of_customers_in_store', y= 'Predicciones', color= 'red', data=df)"
      ],
      "metadata": {
        "id": "ppE6-9emAUuC"
      },
      "execution_count": null,
      "outputs": []
    },
    {
      "cell_type": "code",
      "source": [
        "#Visualizamos la gráfica comparativa entre el total real y el total predecido\n",
        "\n",
        "sns.scatterplot(x= '2_current_permanent_employees', y= '172_supplier_frequency', color= 'blue', data=df)\n",
        "sns.scatterplot(x= '2_current_permanent_employees', y= 'Predicciones', color= 'red', data=df)"
      ],
      "metadata": {
        "id": "OsH6YDHVAvOq"
      },
      "execution_count": null,
      "outputs": []
    },
    {
      "cell_type": "code",
      "source": [
        "#Corroboramos cual es el coeficiente de Determinación de nuestro modelo\n",
        "coef_Deter=model.score(X=Vars_Indep, y=Var_Dep)\n",
        "coef_Deter"
      ],
      "metadata": {
        "id": "RPA1Xl4RA79R"
      },
      "execution_count": null,
      "outputs": []
    },
    {
      "cell_type": "code",
      "source": [
        "#Corroboramos cual es el coeficiente de Correlación de nuestro modelo\n",
        "coef_Correl=np.sqrt(coef_Deter)\n",
        "coef_Correl"
      ],
      "metadata": {
        "id": "rX6O_vPeA91X",
        "colab": {
          "base_uri": "https://localhost:8080/"
        },
        "outputId": "7c6bbf81-d601-4e49-fcc4-53b3c438a2bb"
      },
      "execution_count": null,
      "outputs": [
        {
          "output_type": "execute_result",
          "data": {
            "text/plain": [
              "0.11214903634199638"
            ]
          },
          "metadata": {},
          "execution_count": 226
        }
      ]
    }
  ]
}